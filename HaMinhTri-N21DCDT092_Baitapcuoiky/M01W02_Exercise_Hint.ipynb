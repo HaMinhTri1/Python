{
 "cells": [
  {
   "cell_type": "markdown",
   "metadata": {
    "id": "wqtsIXmn0ZP3"
   },
   "source": [
    "EX1: Hoàn thành đoạn code sau để giải quyết Problem 1"
   ]
  },
  {
   "cell_type": "code",
   "execution_count": 7,
   "metadata": {
    "id": "co65tnyo0YiU"
   },
   "outputs": [],
   "source": [
    "def max_in_window(num_list, k = 3):\n",
    "    # Your code here\n",
    "    max_list = []\n",
    "    for i in range(len(num_list)-k+1):\n",
    "        max_value = max(num_list[i:i+k])\n",
    "        max_list.append(max_value)\n",
    "    return max_list\n",
    "    # End your code\n",
    "\n",
    "test = [3, 4, 5, 1, -44]\n",
    "max_in_window(test,3)\n",
    "assert max_in_window(num_list = test, k = 3) == [5, 5, 5]"
   ]
  },
  {
   "cell_type": "code",
   "execution_count": 8,
   "metadata": {
    "id": "zPVytgtf0-ie"
   },
   "outputs": [
    {
     "name": "stdout",
     "output_type": "stream",
     "text": [
      "[5, 5, 5, 5, 10, 12, 33, 33]\n"
     ]
    }
   ],
   "source": [
    "num_list = [3, 4, 5, 1, -44 , 5 ,10, 12 ,33, 1]\n",
    "print(max_in_window(num_list = num_list, k = 3))\n",
    "\n",
    "# A [5, 5, 5, 5, 10, 12, 33, 33]\n",
    "# B [2, 5, 3, 4, 1, 10, 3, 3]\n",
    "# C [0, 9, 5, 1, 0, 12, 3, 33]\n",
    "# D Raise a Error"
   ]
  },
  {
   "cell_type": "markdown",
   "metadata": {
    "id": "Bwuf3JM-2EHl"
   },
   "source": [
    "EX2: Hoàn thành đoạn code sau để giải quyết Problem 2"
   ]
  },
  {
   "cell_type": "code",
   "execution_count": 15,
   "metadata": {
    "id": "xutPH77e2DPV"
   },
   "outputs": [],
   "source": [
    "def intersection(lst1, lst2):\n",
    "    # Your code here\n",
    "    return list(set(lst1) & set(lst2))\n",
    "    # End your code\n",
    "\n",
    "test_list1 = [4, 9]\n",
    "test_list2 = [9, 2]\n",
    "assert intersection(lst1 = test_list1, lst2 = test_list2) == [9]"
   ]
  },
  {
   "cell_type": "code",
   "execution_count": 20,
   "metadata": {
    "id": "8T4pYMyu2X4v"
   },
   "outputs": [
    {
     "data": {
      "text/plain": [
       "[9, 4]"
      ]
     },
     "execution_count": 20,
     "metadata": {},
     "output_type": "execute_result"
    }
   ],
   "source": [
    "num_list1 = [4, 9, 5]\n",
    "num_list2 = [9, 4, 9, 8, 4]\n",
    "intersection(num_list1, num_list2)\n",
    "\n",
    "#A [9, 9] \n",
    "#B [4, 9]\n",
    "#C [4, 2]\n",
    "#D Raise a Error"
   ]
  },
  {
   "cell_type": "markdown",
   "metadata": {
    "id": "OTWYnyBj2urV"
   },
   "source": [
    "EX3: Hoàn thành đoạn code sau để giải quyết Problem 3"
   ]
  },
  {
   "cell_type": "code",
   "execution_count": 4,
   "metadata": {
    "id": "fDTEb6pQ2w3z"
   },
   "outputs": [],
   "source": [
    "def count_chars(inp_str):\n",
    "    # Your code here\n",
    "    char_count = {}\n",
    "    for char in inp_str:\n",
    "        if char != ' ':\n",
    "            char_count[char] = char_count.get(char, 0) + 1\n",
    "    return char_count\n",
    "    # End your code\n",
    "\n",
    "test_string = 'Happiness'\n",
    "assert count_chars(inp_str = test_string) == {'H': 1, 'a': 1, 'p': 2, 'i': 1, 'n': 1, 'e': 1, 's': 2}"
   ]
  },
  {
   "cell_type": "code",
   "execution_count": 5,
   "metadata": {
    "id": "-wl8qJ0H3Bl9"
   },
   "outputs": [
    {
     "data": {
      "text/plain": [
       "{'s': 2, 'm': 1, 'i': 1, 'l': 1, 'e': 1}"
      ]
     },
     "execution_count": 5,
     "metadata": {},
     "output_type": "execute_result"
    }
   ],
   "source": [
    "string = 'smiles'\n",
    "count_chars(string)\n",
    "\n",
    "#A {'s': 2, 'm': 1, 'i': 1, 'l': 1, 'e': 1}\n",
    "#B {'s': 0, 'm': 1, 'i': 1, 'l': 1, 'e': 8}\n",
    "#C {'s': 4, 'm': 1, 'i': 2, 'l': 1, 'e': 1}\n",
    "#D Raise a Error"
   ]
  },
  {
   "cell_type": "markdown",
   "metadata": {
    "id": "3DsARJux3ODc"
   },
   "source": [
    "EX4: Hoàn thành đoạn code sau để giải quyết Problem 4"
   ]
  },
  {
   "cell_type": "code",
   "execution_count": 29,
   "metadata": {
    "id": "A_LfxoY23Q0b"
   },
   "outputs": [
    {
     "name": "stderr",
     "output_type": "stream",
     "text": [
      "'gdown' is not recognized as an internal or external command,\n",
      "operable program or batch file.\n"
     ]
    }
   ],
   "source": [
    "!gdown https://drive.google.com/uc?id=1IBScGdW2xlNsc9v5zSAya548kNgiOrko"
   ]
  },
  {
   "cell_type": "code",
   "execution_count": 17,
   "metadata": {
    "id": "a-wgMHHk3Sq-"
   },
   "outputs": [
    {
     "name": "stdout",
     "output_type": "stream",
     "text": [
      "he : 1\n",
      "who : 3\n",
      "conquers : 1\n",
      "himself : 1\n",
      "is : 3\n",
      "the : 5\n",
      "mightiest : 1\n",
      "warrior : 1\n",
      "try : 2\n",
      "not : 1\n",
      "to : 3\n",
      "become : 2\n",
      "a : 7\n",
      "man : 6\n",
      "of : 4\n",
      "success : 3\n",
      "but : 1\n",
      "rather : 1\n",
      "value : 1\n",
      "one : 4\n",
      "with : 4\n",
      "courage : 1\n",
      "makes : 1\n",
      "majority : 1\n",
      "secret : 1\n",
      "in : 4\n",
      "life : 2\n",
      "for : 3\n",
      "be : 1\n",
      "ready : 1\n",
      "his : 2\n",
      "opportunity : 1\n",
      "when : 2\n",
      "it : 2\n",
      "comes : 2\n",
      "successful : 2\n",
      "will : 2\n",
      "profit : 1\n",
      "from : 1\n",
      "mistakes : 1\n",
      "and : 1\n",
      "again : 1\n",
      "different : 1\n",
      "way : 1\n",
      "can : 3\n",
      "lay : 1\n",
      "firm : 1\n",
      "foundation : 1\n",
      "bricks : 1\n",
      "others : 1\n",
      "have : 1\n",
      "thrown : 1\n",
      "at : 1\n",
      "him : 1\n",
      "usually : 1\n",
      "those : 1\n",
      "are : 1\n",
      "too : 1\n",
      "busy : 1\n",
      "looking : 1\n",
      "we : 3\n",
      "cannot : 1\n",
      "solve : 1\n",
      "problems : 1\n",
      "kind : 1\n",
      "thinking : 1\n",
      "employed : 1\n",
      "came : 1\n",
      "up : 1\n",
      "them : 1\n",
      "just : 2\n",
      "small : 1\n",
      "positive : 1\n",
      "thought : 1\n",
      "morning : 1\n",
      "change : 1\n",
      "your : 1\n",
      "whole : 1\n",
      "day : 1\n",
      "you : 3\n",
      "get : 2\n",
      "everything : 1\n",
      "want : 2\n",
      "if : 1\n",
      "help : 1\n",
      "enough : 1\n",
      "other : 1\n",
      "people : 1\n",
      "what : 1\n",
      "they : 1\n"
     ]
    },
    {
     "ename": "TypeError",
     "evalue": "'NoneType' object is not subscriptable",
     "output_type": "error",
     "traceback": [
      "\u001b[1;31m---------------------------------------------------------------------------\u001b[0m",
      "\u001b[1;31mTypeError\u001b[0m                                 Traceback (most recent call last)",
      "Cell \u001b[1;32mIn[17], line 22\u001b[0m\n\u001b[0;32m     19\u001b[0m     \u001b[38;5;66;03m# End your code\u001b[39;00m\n\u001b[0;32m     21\u001b[0m file_path \u001b[38;5;241m=\u001b[39m \u001b[38;5;124m'\u001b[39m\u001b[38;5;124mP1_data.txt\u001b[39m\u001b[38;5;124m'\u001b[39m\n\u001b[1;32m---> 22\u001b[0m \u001b[38;5;28;01massert\u001b[39;00m \u001b[43mcount_words\u001b[49m\u001b[43m(\u001b[49m\u001b[43mfile_path\u001b[49m\u001b[43m)\u001b[49m\u001b[43m[\u001b[49m\u001b[38;5;124;43m'\u001b[39;49m\u001b[38;5;124;43msuccess\u001b[39;49m\u001b[38;5;124;43m'\u001b[39;49m\u001b[43m]\u001b[49m \u001b[38;5;241m==\u001b[39m \u001b[38;5;241m3\u001b[39m\n",
      "\u001b[1;31mTypeError\u001b[0m: 'NoneType' object is not subscriptable"
     ]
    }
   ],
   "source": [
    "\n",
    "def count_words(file_path):\n",
    "    \n",
    "    # Your code here\n",
    "\n",
    "    text = open(\"P1_data.txt\", \"r\") \n",
    "    d = dict() \n",
    "    for line in text: \n",
    "\n",
    "       line = line.strip() \n",
    "       line = line.lower() \n",
    "       words = line.split(\" \")                    \n",
    "       for word in words: \n",
    "        if word in d:  \n",
    "            d[word] = d[word] + 1\n",
    "        else: \n",
    "            d[word] = 1\n",
    "    for key in list(d.keys()): \n",
    "      print(key, \":\", d[key]) \n",
    "    # End your code\n",
    "\n",
    "file_path = 'P1_data.txt'\n",
    "assert count_words(file_path)['success'] == 3"
   ]
  },
  {
   "cell_type": "code",
   "execution_count": null,
   "metadata": {
    "id": "qs8pW2bj3ZWD"
   },
   "outputs": [],
   "source": [
    "file_path = 'P1_data.txt'\n",
    "count_words(file_path)['man']\n",
    "\n",
    "#A 4 \n",
    "#B 5\n",
    "#C 6\n",
    "#D 9"
   ]
  },
  {
   "cell_type": "markdown",
   "metadata": {
    "id": "4hcrcz_xaoqP"
   },
   "source": [
    "EX5: Đầu\n",
    "ra của chương trình sau đây là gì?\n",
    "\n"
   ]
  },
  {
   "cell_type": "code",
   "execution_count": null,
   "metadata": {
    "id": "F-CciqZaVchn"
   },
   "outputs": [],
   "source": [
    "n = 1 \n",
    "for i in range(0, 500, 100):\n",
    "  n = i\n",
    "print(n)\n",
    "\n",
    "# A: 900   B:400   C: None  D:  Raise a Error"
   ]
  },
  {
   "cell_type": "markdown",
   "metadata": {
    "id": "yhVrRhTBazZN"
   },
   "source": [
    "EX6: Đầu\n",
    "ra của chương trình sau đây là gì?"
   ]
  },
  {
   "cell_type": "code",
   "execution_count": null,
   "metadata": {
    "id": "ZbZpAZ1HV-ae"
   },
   "outputs": [],
   "source": [
    "data = \"I'm learning Python!\"\n",
    "print(data.split()[1])\n",
    "\n",
    "#A: Python \n",
    "#B: learning\n",
    "#C: I'm \n",
    "#D: Raise a Error"
   ]
  },
  {
   "cell_type": "markdown",
   "metadata": {
    "id": "ZT3NC0Kja2Gt"
   },
   "source": [
    "EX7: Hoàn thành chương trình sau. Đầu\n",
    "ra của chương trình sau đây là gì?"
   ]
  },
  {
   "cell_type": "code",
   "execution_count": 1,
   "metadata": {
    "id": "-I2248BVYPLu"
   },
   "outputs": [],
   "source": [
    "def check_the_number(N):\n",
    "  list_of_numbers = []\n",
    "  result = \"\"\n",
    "  for i in range(1, 5):\n",
    "    #Your code here \n",
    "    list_of_numbers.append(i)\n",
    "    #Sử dụng append thêm i vào trong list_of_number\n",
    "  if N in list_of_numbers:\n",
    "    results = \"True\"\n",
    "  if N not in list_of_numbers:\n",
    "    results = \"False\"\n",
    "  return results\n",
    "\n",
    "N = 7\n",
    "assert check_the_number(N) == \"False\""
   ]
  },
  {
   "cell_type": "code",
   "execution_count": 2,
   "metadata": {
    "id": "Z3IjM8ZHDLbE"
   },
   "outputs": [
    {
     "name": "stdout",
     "output_type": "stream",
     "text": [
      "True\n"
     ]
    }
   ],
   "source": [
    "N = 2\n",
    "results = check_the_number(N)\n",
    "print(results)\n",
    "\n",
    "# A: True   B: False  C: Nothing  D: Raise a Error"
   ]
  },
  {
   "cell_type": "markdown",
   "metadata": {
    "id": "Fn-oZCA8dAvH"
   },
   "source": [
    "EX8: Đầu ra của chương trình dưới đây là gì?"
   ]
  },
  {
   "cell_type": "code",
   "execution_count": null,
   "metadata": {
    "id": "f5eSEBKmavDN"
   },
   "outputs": [],
   "source": [
    "data = \"my list : [ 1, 2, [3, 4]]\"\n",
    "print(type(data))\n",
    "\n",
    "# A: <class 'str'>  \n",
    "#B: <class 'list'>  \n",
    "#C: <class 'mydata'>  \n",
    "#D:  Raise a Error"
   ]
  },
  {
   "cell_type": "markdown",
   "metadata": {
    "id": "VV2qBU2Gee5n"
   },
   "source": [
    "EX9: Đầu ra của chương trình dưới đây là gì?"
   ]
  },
  {
   "cell_type": "code",
   "execution_count": null,
   "metadata": {
    "id": "KlpDzEVtddFd"
   },
   "outputs": [],
   "source": [
    "\"Eiffel\" > \"Apple\"\n",
    "\n",
    "#A: True  \n",
    "#B:False  \n",
    "#C:Raise a Error\n",
    "#D: None of the above"
   ]
  },
  {
   "cell_type": "markdown",
   "metadata": {
    "id": "oHJsd3QOfsj_"
   },
   "source": [
    "EX10: Đầu ra của chương trình dưới đây là gì?"
   ]
  },
  {
   "cell_type": "code",
   "execution_count": null,
   "metadata": {
    "id": "jUH5ZWj7fUUM"
   },
   "outputs": [],
   "source": [
    "n = 0\n",
    "for i in range(5):\n",
    "  n += i\n",
    "  if n>0 and n%3 == 0:\n",
    "      break\n",
    "print(n)\n",
    "\n",
    "#A: 0  B:3  C:Raise a Error D: 6"
   ]
  },
  {
   "cell_type": "markdown",
   "metadata": {
    "id": "g5zAWMFnlk7p"
   },
   "source": [
    "EX11: Đầu ra của chương trình dưới đây là gì?"
   ]
  },
  {
   "cell_type": "code",
   "execution_count": null,
   "metadata": {
    "id": "zzM4SP11gTFl"
   },
   "outputs": [],
   "source": [
    "space1 = \"Cherry Blossom After Winter\"\n",
    "space2 = \"Flowers are blooming on the hillsides, which signals the coming of spring\"\n",
    "space = space1 + space2\n",
    "print(space[-6:])\n",
    "\n",
    "#A: spring  B: Raise a Error  C:here!  D: spring?"
   ]
  },
  {
   "cell_type": "markdown",
   "metadata": {
    "id": "qu3WC4M7o00Q"
   },
   "source": [
    "EX12: Đầu\n",
    "ra của chương trình sau đây là gì?"
   ]
  },
  {
   "cell_type": "code",
   "execution_count": null,
   "metadata": {
    "id": "wnavNGMWih4u"
   },
   "outputs": [],
   "source": [
    "my_list = [0, 1, 1, 2, 1]\n",
    "odd = 1\n",
    "even = 0\n",
    "\n",
    "for number in my_list:\n",
    "  if number % 2 == 0:\n",
    "    odd += number\n",
    "  else:\n",
    "    even += number\n",
    "print(f\"odd:{odd}, even:{even}\")\n",
    "\n",
    "#A: odd:1, even:0  B: odd:3, even:10  C:odd:3, even:3  D: Raise a Error"
   ]
  },
  {
   "cell_type": "markdown",
   "metadata": {
    "id": "UtMuQkTasH6P"
   },
   "source": [
    "EX13: Đầu\n",
    "ra của chương trình sau đây là gì?"
   ]
  },
  {
   "cell_type": "code",
   "execution_count": null,
   "metadata": {
    "id": "IzbXRRaWmwVn"
   },
   "outputs": [],
   "source": [
    "weather = '@the drizzle in spring makes the air more humid. @@'\n",
    "me = \"i love iT!\"\n",
    "\n",
    "txt = weather.strip('@').capitalize()+ me.title() \n",
    "print(txt)\n",
    "\n",
    "#A: The drizzle in spring makes the air more humid. I Love It!\n",
    "#B: The drizzle in spring makes the air more humid. i love it! \n",
    "#C: the drizzle in spring makes the air more humid. @@ I Love It!\n",
    "#D: Raise a Error"
   ]
  },
  {
   "cell_type": "markdown",
   "metadata": {
    "id": "RYAOLEiTsLn-"
   },
   "source": [
    "EX14: Đầu\n",
    "ra của chương trình sau đây là gì?"
   ]
  },
  {
   "cell_type": "code",
   "execution_count": null,
   "metadata": {
    "id": "U7Gh2E9uq9an"
   },
   "outputs": [],
   "source": [
    "data = [1, 9, 3, -3 ]\n",
    "data.sort()\n",
    "print(data)\n",
    "\n",
    "#A: [-3, 1, 3, 9]  \n",
    "#B: [1, 2, 3, 4] \n",
    "#C: [9, 3, 1, -3]  \n",
    "#D: Raise a Error"
   ]
  },
  {
   "cell_type": "markdown",
   "metadata": {
    "id": "wmSSTGJgtpQ5"
   },
   "source": [
    "EX15: Đầu\n",
    "ra của chương trình sau đây là gì?"
   ]
  },
  {
   "cell_type": "code",
   "execution_count": null,
   "metadata": {
    "id": "TVfaTknHstyW"
   },
   "outputs": [],
   "source": [
    "my_exam = \"Under the drizzle, the flower field seems covering with the glitter water drops!\"\n",
    "print(my_exam.strip('!').split())\n",
    "\n",
    "#A: ['Under', 'the', 'drizzle,', 'the', 'flower', 'field', 'seems', 'covering', 'with', 'the', 'glitter', 'water', 'drops'] \n",
    "#B: Raise a Error\n",
    "#C: ['Under', 'the', 'drizzle,', 'the', 'flower', 'field', 'seems', 'covering', 'with', 'the', 'glitter', 'water', 'drops', '!']\n",
    "#D: All A, B, C"
   ]
  },
  {
   "cell_type": "markdown",
   "metadata": {
    "id": "91FoGMoeyo-H"
   },
   "source": [
    "EX16: Đầu\n",
    "ra của chương trình sau đây là gì?"
   ]
  },
  {
   "cell_type": "code",
   "execution_count": null,
   "metadata": {
    "id": "LRY1T_F5yoPp"
   },
   "outputs": [],
   "source": [
    "my_string = \"Peach blossoms bloom in spring\"\n",
    "\n",
    "my_bag_of_word = []\n",
    "for element in my_string:\n",
    "  if element not in my_bag_of_word:\n",
    "    my_bag_of_word.append(element)\n",
    "print(my_bag_of_word)\n",
    "\n",
    "#A: ['P', 'e', 'a', 'c', 'h']\n",
    "#B: [' ']\n",
    "#C: Raise a Error\n",
    "#D: ['P', 'e', 'a', 'c', 'h', ' ', 'b', 'l', 'o', 's', 'm', 'i', 'n', 'p', 'r', 'g']"
   ]
  },
  {
   "cell_type": "markdown",
   "metadata": {
    "id": "PBXVR6eP4Blx"
   },
   "source": [
    "EX17: Đầu\n",
    "ra của chương trình sau đây là gì?"
   ]
  },
  {
   "cell_type": "code",
   "execution_count": null,
   "metadata": {
    "id": "_2dS1jHMxkzn"
   },
   "outputs": [],
   "source": [
    "my_string = \"My name is Tom\"\n",
    "results = my_string.count('m')\n",
    "\n",
    "print(results)\n",
    "\n",
    "#A: Raise a Error    B: 2      C: 3      D: 4  "
   ]
  },
  {
   "cell_type": "markdown",
   "metadata": {
    "id": "4V0eqlAD5Htg"
   },
   "source": [
    "EX18: Đầu\n",
    "ra của chương trình sau đây là gì?"
   ]
  },
  {
   "cell_type": "code",
   "execution_count": null,
   "metadata": {
    "id": "mTxCwZrh3b5G"
   },
   "outputs": [],
   "source": [
    "even_numbers = [x for x in range(1,5) if x % 2==0]\n",
    "print(even_numbers)\n",
    "\n",
    "#A: Raise a Error  B: [1, 2, 3, 4, 5] C: [2, 4] D: [3, 5]"
   ]
  },
  {
   "cell_type": "markdown",
   "metadata": {
    "id": "0pmHKjRJ7OLB"
   },
   "source": [
    "EX19: Đầu\n",
    "ra của chương trình sau đây là gì?"
   ]
  },
  {
   "cell_type": "code",
   "execution_count": null,
   "metadata": {
    "id": "21x9CjPv6yKn"
   },
   "outputs": [],
   "source": [
    "X = [[1, 1],\n",
    "    [2, 2]]\n",
    "\n",
    "result = [[0,0],\n",
    "          [0,0]]\n",
    "\n",
    "for i in range(len(X)):\n",
    "   for j in range(len(X[0])):\n",
    "       result[j][i] = X[i][j]\n",
    "\n",
    "for r in result:\n",
    "   print(r)\n",
    "\n",
    "#A: [1, 2]\n",
    "#   [1, 2]\n",
    "\n",
    "#B: [1, 2, 3] [1, 2, 3]\n",
    "\n",
    "\n",
    "#C: [1, 1, 2, 2]\n",
    "\n",
    "\n",
    "#D: Raise a Error"
   ]
  },
  {
   "cell_type": "markdown",
   "metadata": {
    "id": "vx0khx6p93g4"
   },
   "source": [
    "EX20: Đầu\n",
    "ra của chương trình sau đây là gì?:"
   ]
  },
  {
   "cell_type": "code",
   "execution_count": null,
   "metadata": {
    "id": "_Y-wSj9C-i5y"
   },
   "outputs": [],
   "source": [
    "def my_function(my_data):\n",
    "  rs = 0\n",
    "  for i in my_data:\n",
    "    rs = rs + i\n",
    "  return rs\n",
    "\n",
    "my_list = [1, 2, 3]\n",
    "print(my_function(my_data = my_list))\n",
    "\n",
    "#A: 5       B: 6       C: 8          D: 9"
   ]
  },
  {
   "cell_type": "markdown",
   "metadata": {
    "id": "BJSYbK8298_9"
   },
   "source": [
    "EX21: Đầu\n",
    "ra của chương trình sau đây là gì?"
   ]
  },
  {
   "cell_type": "code",
   "execution_count": null,
   "metadata": {
    "id": "atDxeMVk-jDQ"
   },
   "outputs": [],
   "source": [
    "def my_function(my_data):\n",
    "  result = []\n",
    "  for element in data:\n",
    "    if element not in result:\n",
    "      result.append(element)\n",
    "  return result\n",
    "\n",
    "data = [ {'id': 'M12'}, 10, 20, 30]\n",
    "print(my_function(data))\n",
    "\n",
    "#A: [{'id': 'M12'}, 10, 20, 30]\n",
    "#B: ['id', 'M12', 10, 20, 30]\n",
    "#C: [10, 20, 30]\n",
    "#D: Raise a Error"
   ]
  },
  {
   "cell_type": "markdown",
   "metadata": {
    "id": "an3f27oz99KE"
   },
   "source": [
    "EX22: Hoàn thành chương trình sau"
   ]
  },
  {
   "cell_type": "code",
   "execution_count": 11,
   "metadata": {
    "id": "MQSMkleNCVJa"
   },
   "outputs": [],
   "source": [
    "def my_function(data, max, min):\n",
    "    result = []\n",
    "    for i in data:\n",
    "        #Your code here\n",
    "        if i < min: \n",
    "            result.append(i)\n",
    "        #Nếu i < min thì thêm min vào result\n",
    "        \n",
    "        elif i > max:\n",
    "            result.append(max)\n",
    "        else:\n",
    "            result.append(i)\n",
    "    return result\n",
    "my_list = [5, 2, 5, 0, 1]\n",
    "max = 1\n",
    "min = 0\n",
    "assert my_function(max = max, min = min, data = my_list) == [1, 1, 1, 0, 1]"
   ]
  },
  {
   "cell_type": "code",
   "execution_count": 9,
   "metadata": {
    "id": "-FQJgOTLNKmx"
   },
   "outputs": [
    {
     "name": "stdout",
     "output_type": "stream",
     "text": [
      "[2, 2, 2, 2, 1]\n"
     ]
    }
   ],
   "source": [
    "my_list = [10, 2, 5, 0, 1]\n",
    "max = 2\n",
    "min = 1\n",
    "print(my_function(max = max, min = min, data = my_list))\n",
    "\n",
    "#A: [10, 2, 5, 1, 1]\n",
    "#B: [0, 2, 2, 0, 0]\n",
    "#C: [2, 2, 2, 1, 1]\n",
    "#D: Raise a Error"
   ]
  },
  {
   "cell_type": "markdown",
   "metadata": {
    "id": "QSzYs7hr99Pq"
   },
   "source": [
    "EX23: Hoàn thành chương trình dưới đây"
   ]
  },
  {
   "cell_type": "code",
   "execution_count": 3,
   "metadata": {
    "id": "VZCsPewvFeoK"
   },
   "outputs": [],
   "source": [
    "def my_function(x, y):\n",
    "    #Your code here\n",
    "    x.extend(y)\n",
    "    return x\n",
    "    #Sử dụng extend để nối y vào x\n",
    "    #return x\n",
    "\n",
    "list_num1 = ['a', 2, 5]\n",
    "list_num2 = [1, 1]\n",
    "list_num3 = [0, 0]\n",
    "\n",
    "assert my_function(list_num1, my_function(list_num2, list_num3)) == ['a', 2, 5, 1, 1, 0, 0]"
   ]
  },
  {
   "cell_type": "code",
   "execution_count": 4,
   "metadata": {
    "id": "ZJndw6k0Qjy1"
   },
   "outputs": [
    {
     "name": "stdout",
     "output_type": "stream",
     "text": [
      "[1, 2, 3, 4, 0, 0]\n"
     ]
    }
   ],
   "source": [
    "list_num1 = [1, 2]\n",
    "list_num2 = [3, 4]\n",
    "list_num3 = [0, 0]\n",
    "\n",
    "print(my_function(list_num1, my_function(list_num2, list_num3)))\n",
    "\n",
    "#A: [1, 2, 3, 4, 0, 0]\n",
    "#B: [1, 2, [3, 4, 0, 0]]\n",
    "#C: [[1, 2, 3, 4, 0, 0]]\n",
    "#D: Raise a Error"
   ]
  },
  {
   "cell_type": "markdown",
   "metadata": {
    "id": "ohf8LbFp99T7"
   },
   "source": [
    "EX24: Hãy hoàn thành chương trình tìm phần tử có giá trị nhỏ nhất trong một list dưới đây"
   ]
  },
  {
   "cell_type": "code",
   "execution_count": 15,
   "metadata": {
    "id": "AtiphAEQG42K"
   },
   "outputs": [],
   "source": [
    "def my_function(n):\n",
    "    #Your code here\n",
    "    min = n[0]\n",
    "    for i  in n:\n",
    "        if i < min:\n",
    "            min = i\n",
    "    return(min)\n",
    "    \n",
    "my_list = [1, 22, 93, -100]\n",
    "assert my_function(my_list) == -100 "
   ]
  },
  {
   "cell_type": "code",
   "execution_count": 16,
   "metadata": {
    "id": "TDJZ11etVBHv"
   },
   "outputs": [
    {
     "name": "stdout",
     "output_type": "stream",
     "text": [
      "-1\n"
     ]
    }
   ],
   "source": [
    "my_list = [1, 2, 3, -1]\n",
    "print(my_function(my_list))\n",
    "\n",
    "#A: None\n",
    "#B: Raise a Error\n",
    "#C: -1\n",
    "#D: 3"
   ]
  },
  {
   "cell_type": "markdown",
   "metadata": {
    "id": "MVFJnLmi99YE"
   },
   "source": [
    "EX25: Hãy hoàn thành chương trình tìm phần tử có giá trị lớn nhất trong một list dưới đây"
   ]
  },
  {
   "cell_type": "code",
   "execution_count": 18,
   "metadata": {
    "id": "4eo8E9DcHpBS"
   },
   "outputs": [],
   "source": [
    "def my_function(n):\n",
    "    #Your code here\n",
    "    max = n[0]\n",
    "    for i  in n:\n",
    "        if i > max:\n",
    "            max = i\n",
    "    return max\n",
    "my_list = [1001, 9, 100, 0]\n",
    "assert my_function(my_list) == 1001"
   ]
  },
  {
   "cell_type": "code",
   "execution_count": 19,
   "metadata": {
    "id": "H2miygCtVkIA"
   },
   "outputs": [
    {
     "name": "stdout",
     "output_type": "stream",
     "text": [
      "9\n"
     ]
    }
   ],
   "source": [
    "my_list = [1, 9, 9, 0]\n",
    "print(my_function(my_list))\n",
    "\n",
    "#A: None\n",
    "#B: Raise a Error\n",
    "#C: 0\n",
    "#D: 9"
   ]
  },
  {
   "cell_type": "markdown",
   "metadata": {
    "id": "ryafVp-899ws"
   },
   "source": [
    "EX26: Hãy hoàn thành chương trình dưới đây"
   ]
  },
  {
   "cell_type": "code",
   "execution_count": 20,
   "metadata": {
    "id": "OaLraXU5IMeD"
   },
   "outputs": [
    {
     "ename": "SyntaxError",
     "evalue": "invalid syntax (2691903086.py, line 3)",
     "output_type": "error",
     "traceback": [
      "\u001b[1;36m  Cell \u001b[1;32mIn[20], line 3\u001b[1;36m\u001b[0m\n\u001b[1;33m    for i in integers:\u001b[0m\n\u001b[1;37m    ^\u001b[0m\n\u001b[1;31mSyntaxError\u001b[0m\u001b[1;31m:\u001b[0m invalid syntax\n"
     ]
    }
   ],
   "source": [
    "def My_function(integers, number = 1):\n",
    "    return any( for i in integers:\n",
    "            if i == number:\n",
    "                return True\n",
    "            else:\n",
    "                return False\n",
    "            )\n",
    "        #Your code here:Thực hiện duyệt từng phần tử trong integers, so sánh từng phần tử với number, nếu bằng nhau trả về True, khác nhau trả về false \n",
    "               #ví dụ: integers = [1, 2, 3], number = 2, bạn sẽ tạo ra list [False, True, False] )\n",
    "\n",
    "my_list = [1, 3, 9, 4]\n",
    "assert My_function(my_list, -1) == False"
   ]
  },
  {
   "cell_type": "code",
   "execution_count": null,
   "metadata": {
    "id": "moG_EGpfXuhs"
   },
   "outputs": [],
   "source": [
    "my_list = [1, 2, 3, 4]\n",
    "print(My_function(my_list, 2))\n",
    "\n",
    "#A: 1\n",
    "#B: 4\n",
    "#C: True\n",
    "#D: False"
   ]
  },
  {
   "cell_type": "markdown",
   "metadata": {
    "id": "qsb1Bw1-990w"
   },
   "source": [
    "EX27: Hãy hoàn thành chương trình tính giá trị trung bình các phần tử trong list dưới đây:"
   ]
  },
  {
   "cell_type": "code",
   "execution_count": 22,
   "metadata": {
    "id": "o8ir90ScJHJ8"
   },
   "outputs": [],
   "source": [
    "def my_function(list_nums = [0, 1, 2]):\n",
    "    var = 0\n",
    "    for i in list_nums:\n",
    "        var += i\n",
    "    return var/len(list_nums)#Your code here: Trả về giá trị trung bình của list bằng cách chia var cho số lượng phần tử trong list_mums\n",
    "\n",
    "assert my_function([4, 6, 8]) == 6"
   ]
  },
  {
   "cell_type": "code",
   "execution_count": 23,
   "metadata": {
    "id": "WbyCfTppY5JR"
   },
   "outputs": [
    {
     "name": "stdout",
     "output_type": "stream",
     "text": [
      "1.0\n"
     ]
    }
   ],
   "source": [
    "print(my_function())\n",
    "\n",
    "#A: 1.0\n",
    "#B: 2.0\n",
    "#C: Raise a Error\n",
    "#D: A and C"
   ]
  },
  {
   "cell_type": "markdown",
   "metadata": {
    "id": "evdLjvrx9958"
   },
   "source": [
    "EX28: Đầu ra của chương trình sau đây là gì?"
   ]
  },
  {
   "cell_type": "code",
   "execution_count": null,
   "metadata": {
    "id": "s8_v461kLHoa"
   },
   "outputs": [],
   "source": [
    "def my_function(signal1, signal2):\n",
    "  var = False\n",
    "  for s1 in signal1:\n",
    "    for s2 in signal2:\n",
    "      if s1 == s2:\n",
    "        var = True\n",
    "        return var\n",
    "print(my_function([1, 1, 1], [2, 2, 2]))\n",
    "\n",
    "#A: False\n",
    "#B: True\n",
    "#C: Raise a Error\n",
    "#D: None"
   ]
  },
  {
   "cell_type": "code",
   "execution_count": null,
   "metadata": {
    "id": "TsFpfZgvZ_Fu"
   },
   "outputs": [],
   "source": []
  },
  {
   "cell_type": "markdown",
   "metadata": {
    "id": "z2_DqRD99-NW"
   },
   "source": [
    "EX29: Đầu\n",
    "ra của chương trình sau đây là gì??"
   ]
  },
  {
   "cell_type": "code",
   "execution_count": null,
   "metadata": {
    "id": "khbPUkw4MQAq"
   },
   "outputs": [],
   "source": [
    "def My_function(signal1, signal2):\n",
    "  var = False\n",
    "  for s1 in signal1:\n",
    "    for s2 in signal2:\n",
    "      if s1 == s2:\n",
    "        var = True\n",
    "        return var\n",
    "print(My_function([1, 2, 3], [2, 2]))\n",
    "\n",
    "#A: False\n",
    "#B: True\n",
    "#C: Raise a Error\n",
    "#D: None"
   ]
  },
  {
   "cell_type": "markdown",
   "metadata": {
    "id": "eciqOXgP9-Tj"
   },
   "source": [
    "EX30: Hãy hoàn thành chương trình dưới đây thực hiện trả về một danh sách chỉ chứa số nguyên chia hết cho 3 từ một list các số nguyên:"
   ]
  },
  {
   "cell_type": "code",
   "execution_count": 25,
   "metadata": {
    "id": "-pOXEeOEMZ75"
   },
   "outputs": [],
   "source": [
    "def my_function(data):\n",
    "  var = []\n",
    "  for i in data:\n",
    "    #Your code here\n",
    "    if i %3 == 0:\n",
    "      var.append(i)\n",
    "    #Nếu i chia hết cho 3 thì thêm i vào list var\n",
    "  return var\n",
    "\n",
    "assert my_function([3, 9, 4, 5]) == [3, 9]"
   ]
  },
  {
   "cell_type": "code",
   "execution_count": 26,
   "metadata": {
    "id": "VfjAebkpbcQ9"
   },
   "outputs": [
    {
     "name": "stdout",
     "output_type": "stream",
     "text": [
      "[3, 6]\n"
     ]
    }
   ],
   "source": [
    "print(my_function([1, 2, 3, 5, 6]))\n",
    "\n",
    "#A: [3, 6]\n",
    "#B: [1, 2, 3, 5, 6]\n",
    "#C: A and D\n",
    "#D: [5, 1]"
   ]
  },
  {
   "cell_type": "markdown",
   "metadata": {
    "id": "n9ipqb6N-PFs"
   },
   "source": [
    "EX31: Đầu\n",
    "ra của chương trình sau đây là gì?"
   ]
  },
  {
   "cell_type": "code",
   "execution_count": 27,
   "metadata": {
    "id": "ywl787DyNJl7"
   },
   "outputs": [
    {
     "name": "stdout",
     "output_type": "stream",
     "text": [
      "1  0  \n",
      "0  1  \n"
     ]
    }
   ],
   "source": [
    "def my_function(x):\n",
    "  for i in range(x):\n",
    "    for j in range(x):\n",
    "      if i == j:\n",
    "        print(\"1 \", end=\" \")\n",
    "      else:\n",
    "        print(\"0 \", end=\" \")\n",
    "    print()\n",
    "my_function(2)"
   ]
  },
  {
   "cell_type": "code",
   "execution_count": null,
   "metadata": {
    "id": "7R7ax2ambtyO"
   },
   "outputs": [],
   "source": [
    "# #A: 1   0\n",
    "#     0   1\n",
    "\n",
    "# #B: 0   1\n",
    "#     1   0\n",
    "\n",
    "# #C: [1, 0, 0, 1]\n",
    "\n",
    "# #D: None"
   ]
  },
  {
   "cell_type": "markdown",
   "metadata": {
    "id": "hLU7ZIDF-PMN"
   },
   "source": [
    "EX32: Hãy hoàn thành chương trình sau đây thực hiện tính giai thừa của 1 số\n",
    "\n"
   ]
  },
  {
   "cell_type": "code",
   "execution_count": 29,
   "metadata": {
    "id": "WZc1_4zxN7R7"
   },
   "outputs": [],
   "source": [
    "def my_function(y):\n",
    "  var = 1\n",
    "  while(y > 1):\n",
    "    #Your code here\n",
    "    var = var * y\n",
    "    y = y -1\n",
    "  return var\n",
    "\n",
    "assert my_function(8) == 40320"
   ]
  },
  {
   "cell_type": "code",
   "execution_count": 30,
   "metadata": {
    "id": "YUm6ChnseCRf"
   },
   "outputs": [
    {
     "name": "stdout",
     "output_type": "stream",
     "text": [
      "24\n"
     ]
    }
   ],
   "source": [
    "print(my_function(4))\n",
    "\n",
    "#A: 0\n",
    "#B: 20\n",
    "#C: 24\n",
    "#D: Raise a Error"
   ]
  },
  {
   "cell_type": "markdown",
   "metadata": {
    "id": "qBU5avrq-PR7"
   },
   "source": [
    "EX33: Đầu\n",
    "ra của chương trình sau đây là gì?"
   ]
  },
  {
   "cell_type": "code",
   "execution_count": 31,
   "metadata": {
    "id": "J4FlPUuJOfG4"
   },
   "outputs": [
    {
     "name": "stdout",
     "output_type": "stream",
     "text": [
      "[0, 1, 2, 3]\n"
     ]
    }
   ],
   "source": [
    "def my_function(signal):\n",
    "  var = True\n",
    "  while var:\n",
    "    var = False\n",
    "    for i in range(len(signal) - 1):\n",
    "      if signal[i] > signal[i + 1]:\n",
    "        signal[i], signal[i + 1] = signal[i + 1], signal[i]\n",
    "        var = True\n",
    "\n",
    "my_signal = [1, 2, 3, 0]\n",
    "my_function(my_signal)\n",
    "print(my_signal)\n",
    "\n",
    "#A: [0, 1, 2, 3]\n",
    "#B: [1, 1, 1, 1]\n",
    "#C: [3, 2, 1, 0]\n",
    "#D: Raise a Error"
   ]
  },
  {
   "cell_type": "markdown",
   "metadata": {
    "id": "YzGwJe5t-QEQ"
   },
   "source": [
    "EX34: Đầu\n",
    "ra của chương trình sau đây là gì?"
   ]
  },
  {
   "cell_type": "code",
   "execution_count": 32,
   "metadata": {
    "id": "-ZBmAFU793GJ"
   },
   "outputs": [
    {
     "name": "stdout",
     "output_type": "stream",
     "text": [
      "\n",
      " Sum of two numbers\n",
      " input: num1, num2\n",
      " output: num1+num2\n",
      " \n"
     ]
    }
   ],
   "source": [
    "def sum_function(num1, num2):\n",
    " '''\n",
    " Sum of two numbers\n",
    " input: num1, num2\n",
    " output: num1+num2\n",
    " '''\n",
    " return num1 + num1\n",
    "\n",
    "print(sum_function.__doc__)"
   ]
  },
  {
   "cell_type": "code",
   "execution_count": null,
   "metadata": {
    "id": "5CaaLWOW1mWl"
   },
   "outputs": [],
   "source": [
    "# '''\n",
    "# A:  Sum of two numbers\n",
    "#     input: num1, num2\n",
    "#     output: num1+num2\n",
    "# B: 10\n",
    "# C: Raise a Error\n",
    "# D: 100!\n",
    "# '''"
   ]
  },
  {
   "cell_type": "markdown",
   "metadata": {
    "id": "nTR3h_iQl_y3"
   },
   "source": [
    "EX35: Hãy hoàn thành chương trình đảo ngược chuỗi dưới đây"
   ]
  },
  {
   "cell_type": "code",
   "execution_count": 34,
   "metadata": {
    "id": "y4gDivEh70Z3"
   },
   "outputs": [
    {
     "ename": "TypeError",
     "evalue": "string indices must be integers, not 'str'",
     "output_type": "error",
     "traceback": [
      "\u001b[1;31m---------------------------------------------------------------------------\u001b[0m",
      "\u001b[1;31mTypeError\u001b[0m                                 Traceback (most recent call last)",
      "Cell \u001b[1;32mIn[34], line 8\u001b[0m\n\u001b[0;32m      5\u001b[0m   \u001b[38;5;28;01mreturn\u001b[39;00m x\n\u001b[0;32m      7\u001b[0m x \u001b[38;5;241m=\u001b[39m \u001b[38;5;124m'\u001b[39m\u001b[38;5;124mI can do it\u001b[39m\u001b[38;5;124m'\u001b[39m\n\u001b[1;32m----> 8\u001b[0m \u001b[38;5;28;01massert\u001b[39;00m \u001b[43mmy_function\u001b[49m\u001b[43m(\u001b[49m\u001b[43mx\u001b[49m\u001b[43m)\u001b[49m\u001b[38;5;241m==\u001b[39m\u001b[38;5;124m\"\u001b[39m\u001b[38;5;124mti od nac I\u001b[39m\u001b[38;5;124m\"\u001b[39m\n",
      "Cell \u001b[1;32mIn[34], line 4\u001b[0m, in \u001b[0;36mmy_function\u001b[1;34m(x)\u001b[0m\n\u001b[0;32m      1\u001b[0m \u001b[38;5;28;01mdef\u001b[39;00m \u001b[38;5;21mmy_function\u001b[39m(x):\n\u001b[0;32m      2\u001b[0m   \u001b[38;5;66;03m#your code here\u001b[39;00m\n\u001b[0;32m      3\u001b[0m   \u001b[38;5;28;01mfor\u001b[39;00m i \u001b[38;5;129;01min\u001b[39;00m x:\n\u001b[1;32m----> 4\u001b[0m     \u001b[43mx\u001b[49m\u001b[43m[\u001b[49m\u001b[43mi\u001b[49m\u001b[43m]\u001b[49m \u001b[38;5;241m==\u001b[39m x[\u001b[38;5;241m-\u001b[39mi]\n\u001b[0;32m      5\u001b[0m   \u001b[38;5;28;01mreturn\u001b[39;00m x\n",
      "\u001b[1;31mTypeError\u001b[0m: string indices must be integers, not 'str'"
     ]
    }
   ],
   "source": [
    "def my_function(x):\n",
    "  #your code here\n",
    "  for i in x:\n",
    "    x[i] == x[-i]\n",
    "  return x\n",
    "\n",
    "x = 'I can do it'\n",
    "assert my_function(x)==\"ti od nac I\""
   ]
  },
  {
   "cell_type": "code",
   "execution_count": 35,
   "metadata": {
    "id": "I5BUMIpkfgeA"
   },
   "outputs": [
    {
     "ename": "TypeError",
     "evalue": "string indices must be integers, not 'str'",
     "output_type": "error",
     "traceback": [
      "\u001b[1;31m---------------------------------------------------------------------------\u001b[0m",
      "\u001b[1;31mTypeError\u001b[0m                                 Traceback (most recent call last)",
      "Cell \u001b[1;32mIn[35], line 2\u001b[0m\n\u001b[0;32m      1\u001b[0m x \u001b[38;5;241m=\u001b[39m \u001b[38;5;124m'\u001b[39m\u001b[38;5;124mapricot\u001b[39m\u001b[38;5;124m'\u001b[39m\n\u001b[1;32m----> 2\u001b[0m \u001b[38;5;28mprint\u001b[39m(\u001b[43mmy_function\u001b[49m\u001b[43m(\u001b[49m\u001b[43mx\u001b[49m\u001b[43m)\u001b[49m)\n\u001b[0;32m      4\u001b[0m \u001b[38;5;66;03m#A: apricot\u001b[39;00m\n\u001b[0;32m      5\u001b[0m \u001b[38;5;66;03m#B: tocirpa\u001b[39;00m\n\u001b[0;32m      6\u001b[0m \u001b[38;5;66;03m#C: at\u001b[39;00m\n\u001b[0;32m      7\u001b[0m \u001b[38;5;66;03m#D: ta\u001b[39;00m\n",
      "Cell \u001b[1;32mIn[34], line 4\u001b[0m, in \u001b[0;36mmy_function\u001b[1;34m(x)\u001b[0m\n\u001b[0;32m      1\u001b[0m \u001b[38;5;28;01mdef\u001b[39;00m \u001b[38;5;21mmy_function\u001b[39m(x):\n\u001b[0;32m      2\u001b[0m   \u001b[38;5;66;03m#your code here\u001b[39;00m\n\u001b[0;32m      3\u001b[0m   \u001b[38;5;28;01mfor\u001b[39;00m i \u001b[38;5;129;01min\u001b[39;00m x:\n\u001b[1;32m----> 4\u001b[0m     \u001b[43mx\u001b[49m\u001b[43m[\u001b[49m\u001b[43mi\u001b[49m\u001b[43m]\u001b[49m \u001b[38;5;241m==\u001b[39m x[\u001b[38;5;241m-\u001b[39mi]\n\u001b[0;32m      5\u001b[0m   \u001b[38;5;28;01mreturn\u001b[39;00m x\n",
      "\u001b[1;31mTypeError\u001b[0m: string indices must be integers, not 'str'"
     ]
    }
   ],
   "source": [
    "x = 'apricot'\n",
    "print(my_function(x))\n",
    "\n",
    "#A: apricot\n",
    "#B: tocirpa\n",
    "#C: at\n",
    "#D: ta"
   ]
  },
  {
   "cell_type": "markdown",
   "metadata": {
    "id": "D-fMj4hpm13b"
   },
   "source": [
    "EX36: Hãy hoàn thành chương trình dưới đây"
   ]
  },
  {
   "cell_type": "code",
   "execution_count": null,
   "metadata": {
    "id": "5okSj1lwmDri"
   },
   "outputs": [],
   "source": [
    "def function_helper(x):\n",
    "  #Your code here\n",
    "  #Nếu x>0 trả về 'T', ngược lại trả về 'N'\n",
    "\n",
    "def my_function(data):\n",
    "  res = [function_helper(x) for x in data]\n",
    "  return res\n",
    "\n",
    "data = [10, 0, -10, -1]\n",
    "assert my_function(data) == ['T', 'N', 'N', 'N']"
   ]
  },
  {
   "cell_type": "code",
   "execution_count": null,
   "metadata": {
    "id": "wtK89i0egAMT"
   },
   "outputs": [],
   "source": [
    "data = [2, 3, 5, -1]\n",
    "print(my_function(data))\n",
    "\n",
    "# '''\n",
    "# a) ['N', 'T', 'T', 'N']\n",
    "# b) ['T', 'N', 'T', 'N']\n",
    "# c) ['T', 'T', 'T', 'N']\n",
    "# d) Raise a Error\n",
    "# '''"
   ]
  },
  {
   "cell_type": "markdown",
   "metadata": {
    "id": "JVWKE27fm3z5"
   },
   "source": [
    "EX37: Hãy hoàn thành chương trình dưới đây"
   ]
  },
  {
   "cell_type": "code",
   "execution_count": null,
   "metadata": {
    "id": "iDch6DXdmU9S"
   },
   "outputs": [],
   "source": [
    "def function_helper(x, data):\n",
    "  for i in data:\n",
    "    #Your code here\n",
    "    #Nếu x == i thì return 0\n",
    "  return 1\n",
    "\n",
    "def my_function(data):\n",
    "  res = []\n",
    "  for i in data:\n",
    "    if function_helper(i, res):\n",
    "      res.append(i)\n",
    "  \n",
    "  return res\n",
    "\n",
    "lst = [10, 10, 9, 7, 7]\n",
    "assert my_function(lst)==[10, 9, 7]"
   ]
  },
  {
   "cell_type": "code",
   "execution_count": null,
   "metadata": {
    "id": "e-Ky5OAkmukd"
   },
   "outputs": [],
   "source": [
    "lst = [9, 9, 8, 1, 1]\n",
    "print(my_function(lst))\n",
    "\n",
    "#A: [9, 8, 1]\n",
    "#B: [1, 1, 1]\n",
    "#C: [9, 9, 8, 1, 1]]\n",
    "#D: Raise a Error"
   ]
  }
 ],
 "metadata": {
  "colab": {
   "provenance": [
    {
     "file_id": "12KNoHaX-1x3HMGwVnFyTVOjylsP0ybw1",
     "timestamp": 1682905614751
    },
    {
     "file_id": "1MnjsqtIPhWd0egBv5BlTsNYUXQr6x_V4",
     "timestamp": 1682905171381
    }
   ]
  },
  "kernelspec": {
   "display_name": "Python 3 (ipykernel)",
   "language": "python",
   "name": "python3"
  },
  "language_info": {
   "codemirror_mode": {
    "name": "ipython",
    "version": 3
   },
   "file_extension": ".py",
   "mimetype": "text/x-python",
   "name": "python",
   "nbconvert_exporter": "python",
   "pygments_lexer": "ipython3",
   "version": "3.12.1"
  },
  "widgets": {
   "application/vnd.jupyter.widget-state+json": {
    "state": {},
    "version_major": 2,
    "version_minor": 0
   }
  }
 },
 "nbformat": 4,
 "nbformat_minor": 4
}
